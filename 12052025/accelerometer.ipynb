{
  "cells": [
    {
      "cell_type": "code",
      "source": [
        "from google.colab import drive\n",
        "drive.mount('/content/drive/')"
      ],
      "metadata": {
        "colab": {
          "base_uri": "https://localhost:8080/"
        },
        "id": "6-4R85eH2Fj8",
        "outputId": "d0aca6ea-d1e7-4b54-911b-2ae9b8f58226"
      },
      "execution_count": null,
      "outputs": [
        {
          "output_type": "stream",
          "name": "stdout",
          "text": [
            "Mounted at /content/drive/\n"
          ]
        }
      ]
    },
    {
      "cell_type": "code",
      "source": [
        "import os\n",
        "\n",
        "# Define your desired path\n",
        "data_path = '/content/drive/My Drive/HackathonJune2025/12may'\n",
        "\n",
        "# Change the current working directory to the new path\n",
        "os.chdir(data_path)\n",
        "\n",
        "# Verify the current working directory\n",
        "print(\"Current Working Directory:\", os.getcwd())"
      ],
      "metadata": {
        "colab": {
          "base_uri": "https://localhost:8080/"
        },
        "id": "qbWs5o4f2Hjx",
        "outputId": "a9f383b6-126b-4cab-b8aa-66129a583c28"
      },
      "execution_count": null,
      "outputs": [
        {
          "output_type": "stream",
          "name": "stdout",
          "text": [
            "Current Working Directory: /content/drive/My Drive/HackathonJune2025/12may\n"
          ]
        }
      ]
    },
    {
      "cell_type": "code",
      "execution_count": null,
      "metadata": {
        "id": "rZUaQYzKZMGP"
      },
      "outputs": [],
      "source": [
        "import numpy as np\n",
        "import pandas as pd\n",
        "import sys\n",
        "import logging\n",
        "from tqdm.notebook import tqdm\n",
        "import matplotlib.pyplot as plt\n",
        "from sklearn.ensemble import RandomForestClassifier\n",
        "from sklearn.ensemble import GradientBoostingClassifier\n",
        "from sklearn.linear_model import LogisticRegression\n",
        "from datasets import import_accelerometer\n",
        "from sklearn.metrics import roc_auc_score\n",
        "import seaborn as sns"
      ]
    },
    {
      "cell_type": "code",
      "execution_count": null,
      "metadata": {
        "colab": {
          "base_uri": "https://localhost:8080/"
        },
        "id": "VzBpmK6j0_5g",
        "outputId": "29d55a30-1ae8-44ce-c1fb-d3f3ac616204"
      },
      "outputs": [
        {
          "output_type": "stream",
          "name": "stderr",
          "text": [
            "/usr/local/lib/python3.11/dist-packages/numpy/lib/_function_base_impl.py:5718: ComplexWarning: Casting complex values to real discards the imaginary part\n",
            "  values = array(values, copy=None, ndmin=arr.ndim, dtype=arr.dtype)\n"
          ]
        }
      ],
      "source": [
        "#look at the dataset.py file. the TS is too long, so we do an operation called \"windowing\" to create more samples, each one associated with label\n",
        "#for each window we will extract features for X Y Z\n",
        "X_train, X_val, X_test, Y_train, Y_val, Y_test = import_accelerometer()"
      ]
    },
    {
      "cell_type": "markdown",
      "metadata": {
        "id": "NiFGZv-U0_5g"
      },
      "source": [
        "## Random Forest"
      ]
    },
    {
      "cell_type": "code",
      "execution_count": null,
      "metadata": {
        "colab": {
          "base_uri": "https://localhost:8080/"
        },
        "id": "2YsObq9f0_5h",
        "outputId": "fa16f0c2-1cd7-444c-f554-8e3f9bff114c"
      },
      "outputs": [
        {
          "output_type": "execute_result",
          "data": {
            "text/plain": [
              "0.8087855297157622"
            ]
          },
          "metadata": {},
          "execution_count": 5
        }
      ],
      "source": [
        "classifier = RandomForestClassifier(n_estimators=100, max_depth=9,random_state=3)\n",
        "classifier.fit(X_train,Y_train)\n",
        "classifier.score(X_test,Y_test)"
      ]
    },
    {
      "cell_type": "markdown",
      "metadata": {
        "id": "oT-8E7Fd0_5h"
      },
      "source": [
        "## Gradient Boosting"
      ]
    },
    {
      "cell_type": "code",
      "execution_count": null,
      "metadata": {
        "colab": {
          "base_uri": "https://localhost:8080/"
        },
        "id": "BQ0O7Ntz0_5i",
        "outputId": "d18d7309-7c62-496e-f47e-14fac8273af0"
      },
      "outputs": [
        {
          "output_type": "execute_result",
          "data": {
            "text/plain": [
              "0.8294573643410853"
            ]
          },
          "metadata": {},
          "execution_count": 6
        }
      ],
      "source": [
        "classifier = GradientBoostingClassifier(n_estimators=100, max_depth=9,random_state=3)\n",
        "classifier.fit(X_train,Y_train)\n",
        "classifier.score(X_test,Y_test)"
      ]
    },
    {
      "cell_type": "markdown",
      "metadata": {
        "id": "5e6XGW930_5i"
      },
      "source": [
        "## Logistic Regression"
      ]
    },
    {
      "cell_type": "code",
      "execution_count": null,
      "metadata": {
        "colab": {
          "base_uri": "https://localhost:8080/"
        },
        "id": "sZdHdUD80_5j",
        "outputId": "435fe39c-bbdb-445a-98fe-62024a9b3486"
      },
      "outputs": [
        {
          "output_type": "execute_result",
          "data": {
            "text/plain": [
              "0.5736434108527132"
            ]
          },
          "metadata": {},
          "execution_count": 7
        }
      ],
      "source": [
        "classifier = LogisticRegression(max_iter=1000)\n",
        "classifier.fit(X_train,Y_train)\n",
        "classifier.score(X_test,Y_test)"
      ]
    }
  ],
  "metadata": {
    "colab": {
      "provenance": []
    },
    "kernelspec": {
      "display_name": "Python 3 (ipykernel)",
      "language": "python",
      "name": "python3"
    },
    "language_info": {
      "codemirror_mode": {
        "name": "ipython",
        "version": 3
      },
      "file_extension": ".py",
      "mimetype": "text/x-python",
      "name": "python",
      "nbconvert_exporter": "python",
      "pygments_lexer": "ipython3",
      "version": "3.10.6"
    }
  },
  "nbformat": 4,
  "nbformat_minor": 0
}