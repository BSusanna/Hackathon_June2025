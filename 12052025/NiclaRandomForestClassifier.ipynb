{
  "nbformat": 4,
  "nbformat_minor": 0,
  "metadata": {
    "colab": {
      "provenance": []
    },
    "kernelspec": {
      "name": "python3",
      "display_name": "Python 3"
    },
    "language_info": {
      "name": "python"
    }
  },
  "cells": [
    {
      "cell_type": "code",
      "source": [
        "!pip install scikit-learn micromlgen joblib\n"
      ],
      "metadata": {
        "id": "iRezMO03oJxp",
        "colab": {
          "base_uri": "https://localhost:8080/"
        },
        "outputId": "9307ed56-87f0-41f8-fcdf-57881ee5dc11"
      },
      "execution_count": null,
      "outputs": [
        {
          "output_type": "stream",
          "name": "stdout",
          "text": [
            "Requirement already satisfied: scikit-learn in /usr/local/lib/python3.11/dist-packages (1.6.1)\n",
            "Collecting micromlgen\n",
            "  Downloading micromlgen-1.1.28.tar.gz (12 kB)\n",
            "  Preparing metadata (setup.py) ... \u001b[?25l\u001b[?25hdone\n",
            "Requirement already satisfied: joblib in /usr/local/lib/python3.11/dist-packages (1.4.2)\n",
            "Requirement already satisfied: numpy>=1.19.5 in /usr/local/lib/python3.11/dist-packages (from scikit-learn) (2.0.2)\n",
            "Requirement already satisfied: scipy>=1.6.0 in /usr/local/lib/python3.11/dist-packages (from scikit-learn) (1.15.2)\n",
            "Requirement already satisfied: threadpoolctl>=3.1.0 in /usr/local/lib/python3.11/dist-packages (from scikit-learn) (3.6.0)\n",
            "Requirement already satisfied: jinja2 in /usr/local/lib/python3.11/dist-packages (from micromlgen) (3.1.6)\n",
            "Requirement already satisfied: MarkupSafe>=2.0 in /usr/local/lib/python3.11/dist-packages (from jinja2->micromlgen) (3.0.2)\n",
            "Building wheels for collected packages: micromlgen\n",
            "  Building wheel for micromlgen (setup.py) ... \u001b[?25l\u001b[?25hdone\n",
            "  Created wheel for micromlgen: filename=micromlgen-1.1.28-py3-none-any.whl size=32152 sha256=f5615b2ffbc00b2dc5918cac76261226064c34140b23db41683891bdbae842bb\n",
            "  Stored in directory: /root/.cache/pip/wheels/aa/3a/19/9fd4635f110202e18f3b4bb631e90287ba06eb406999726cb9\n",
            "Successfully built micromlgen\n",
            "Installing collected packages: micromlgen\n",
            "Successfully installed micromlgen-1.1.28\n"
          ]
        }
      ]
    },
    {
      "cell_type": "markdown",
      "source": [
        "Dataset generation and model training"
      ],
      "metadata": {
        "id": "k54N612ZtJ-3"
      }
    },
    {
      "cell_type": "code",
      "source": [
        "from sklearn.ensemble import RandomForestClassifier\n",
        "from sklearn.model_selection import train_test_split\n",
        "from sklearn.metrics import accuracy_score\n",
        "import numpy as np\n",
        "import joblib\n",
        "\n",
        "# Generazione del dataset\n",
        "np.random.seed(42)\n",
        "n_samples = 200\n",
        "\n",
        "# Feature: temperature casuali tra 15°C e 35°C\n",
        "temperatures = np.random.uniform(15, 35, n_samples).reshape(-1, 1)\n",
        "\n",
        "# Target: 0 = OK (tra 20°C e 30°C), 1 = OUT_OF_RANGE\n",
        "labels = np.array([0 if 20 <= temp <= 30 else 1 for temp in temperatures.flatten()])\n",
        "\n",
        "# Suddivisione in training e test\n",
        "X_train, X_test, y_train, y_test = train_test_split(temperatures, labels, test_size=0.3, random_state=42)\n",
        "\n",
        "# Creazione del modello Random Forest\n",
        "n_trees = 10  # Numero di alberi nella foresta\n",
        "model = RandomForestClassifier(n_estimators=n_trees, random_state=42)\n",
        "model.fit(X_train, y_train)\n",
        "\n",
        "# Valutazione del modello\n",
        "y_pred = model.predict(X_test)\n",
        "accuracy = accuracy_score(y_test, y_pred)\n",
        "print(f\"Accuracy del modello Random Forest: {accuracy:.2f}\")\n",
        "\n",
        "# Salva il modello in un file .joblib\n",
        "joblib.dump(model, \"random_forest_model.joblib\")\n"
      ],
      "metadata": {
        "id": "S-81lM6AoL0H",
        "colab": {
          "base_uri": "https://localhost:8080/"
        },
        "outputId": "f68191db-d67b-436f-fa16-789818b4dc65"
      },
      "execution_count": null,
      "outputs": [
        {
          "output_type": "stream",
          "name": "stdout",
          "text": [
            "Accuracy del modello Random Forest: 1.00\n"
          ]
        },
        {
          "output_type": "execute_result",
          "data": {
            "text/plain": [
              "['random_forest_model.joblib']"
            ]
          },
          "metadata": {},
          "execution_count": 2
        }
      ]
    },
    {
      "cell_type": "markdown",
      "source": [
        "Model generation and c++ conversion"
      ],
      "metadata": {
        "id": "K7Ytjk-ItNJL"
      }
    },
    {
      "cell_type": "code",
      "source": [
        "from micromlgen import port\n",
        "import joblib\n",
        "\n",
        "# Carica il modello scikit-learn salvato\n",
        "model = joblib.load(\"random_forest_model.joblib\")\n",
        "\n",
        "# Converti il modello in codice C++\n",
        "c_code = port(model)\n",
        "\n",
        "# Salva il codice C++ in un file\n",
        "with open(\"random_forest_model.h\", \"w\") as f:\n",
        "    f.write(c_code)\n",
        "\n",
        "print(\"Modello convertito in C++ e salvato come 'random_forest_model.h'\")\n"
      ],
      "metadata": {
        "id": "fvT_ZqGhoQOj",
        "colab": {
          "base_uri": "https://localhost:8080/"
        },
        "outputId": "c9fdef74-c62d-49c1-ed4c-c1740c520590"
      },
      "execution_count": null,
      "outputs": [
        {
          "output_type": "stream",
          "name": "stdout",
          "text": [
            "Modello convertito in C++ e salvato come 'random_forest_model.h'\n"
          ]
        }
      ]
    },
    {
      "cell_type": "markdown",
      "source": [
        "Model dowload"
      ],
      "metadata": {
        "id": "KQHCMamftSo-"
      }
    },
    {
      "cell_type": "code",
      "source": [
        "from google.colab import files\n",
        "files.download(\"random_forest_model.h\")\n"
      ],
      "metadata": {
        "id": "vD_k8IaYoSNv",
        "colab": {
          "base_uri": "https://localhost:8080/",
          "height": 17
        },
        "outputId": "1432e650-cdcf-4b4f-febf-d97da4b65804"
      },
      "execution_count": null,
      "outputs": [
        {
          "output_type": "display_data",
          "data": {
            "text/plain": [
              "<IPython.core.display.Javascript object>"
            ],
            "application/javascript": [
              "\n",
              "    async function download(id, filename, size) {\n",
              "      if (!google.colab.kernel.accessAllowed) {\n",
              "        return;\n",
              "      }\n",
              "      const div = document.createElement('div');\n",
              "      const label = document.createElement('label');\n",
              "      label.textContent = `Downloading \"${filename}\": `;\n",
              "      div.appendChild(label);\n",
              "      const progress = document.createElement('progress');\n",
              "      progress.max = size;\n",
              "      div.appendChild(progress);\n",
              "      document.body.appendChild(div);\n",
              "\n",
              "      const buffers = [];\n",
              "      let downloaded = 0;\n",
              "\n",
              "      const channel = await google.colab.kernel.comms.open(id);\n",
              "      // Send a message to notify the kernel that we're ready.\n",
              "      channel.send({})\n",
              "\n",
              "      for await (const message of channel.messages) {\n",
              "        // Send a message to notify the kernel that we're ready.\n",
              "        channel.send({})\n",
              "        if (message.buffers) {\n",
              "          for (const buffer of message.buffers) {\n",
              "            buffers.push(buffer);\n",
              "            downloaded += buffer.byteLength;\n",
              "            progress.value = downloaded;\n",
              "          }\n",
              "        }\n",
              "      }\n",
              "      const blob = new Blob(buffers, {type: 'application/binary'});\n",
              "      const a = document.createElement('a');\n",
              "      a.href = window.URL.createObjectURL(blob);\n",
              "      a.download = filename;\n",
              "      div.appendChild(a);\n",
              "      a.click();\n",
              "      div.remove();\n",
              "    }\n",
              "  "
            ]
          },
          "metadata": {}
        },
        {
          "output_type": "display_data",
          "data": {
            "text/plain": [
              "<IPython.core.display.Javascript object>"
            ],
            "application/javascript": [
              "download(\"download_8da56461-be8c-4ae0-80c9-8d7665159e99\", \"random_forest_model.h\", 5628)"
            ]
          },
          "metadata": {}
        }
      ]
    }
  ]
}